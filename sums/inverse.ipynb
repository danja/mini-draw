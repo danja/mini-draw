{
 "cells": [
  {
   "cell_type": "code",
   "execution_count": 49,
   "metadata": {},
   "outputs": [],
   "source": [
    "# 5-Bar Linkage : Inverse Kinematics\n",
    "#\n",
    "# from Study and Development of Parallel Robots Based On 5-Bar Linkage\n",
    "# Manh Tuong Hoang, Trung Tin Vuong, Cong Bang Pham 2015\n",
    "# https://www.researchgate.net/publication/283356024_Study_and_Development_of_Parallel_Robots_Based_On_5-Bar_Linkage\n",
    "\n",
    "import math\n",
    "import numpy as np\n",
    "\n",
    "import matplotlib.pyplot as plt\n",
    "\n",
    "base = 10 # distance between servos, lc in the paper ^^\n",
    "proximal = 10 # from each servo to elbow, la ^^\n",
    "distal = 10 # elbow to pen, lb ^^\n",
    "\n",
    "def inverseKinematic(x, y):\n",
    "    E1 = -2*proximal*x\n",
    "    F1 = -2*proximal*y\n",
    "    G1 = proximal*proximal-distal*distal+x*x+y*y\n",
    "    E4 = 2*proximal*(base-x)\n",
    "    F4 = 2*proximal*y\n",
    "    G4 = base*base + proximal*proximal - distal*distal + x*x + y*y - 2*base*x\n",
    "\n",
    "    if((E1*E1+F1*F1-G1*G1) > 0):\n",
    "        lumpD1plus = (-F1+math.sqrt(E1*E1+F1*F1-G1*G1))/(G1-E1)\n",
    "        D1plus = 2*math.atan(lumpD1plus)\n",
    "        lumpD1minus = (-F1-math.sqrt(E1*E1+F1*F1-G1*G1))/(G1-E1)\n",
    "        D1minus = 2*math.atan(lumpD1minus)\n",
    "\n",
    "    if((E4*E4+F4*F4-G4*G4) > 0):\n",
    "        lumpD4plus = (-F4+math.sqrt(E4*E4+F4*F4-G4*G4))/(G4-E4)\n",
    "        D4plus = 2*math.atan(lumpD4plus)\n",
    "        lumpD4minus = (-F4-math.sqrt(E4*E4+F4*F4-G4*G4))/(G4-E4)\n",
    "        D4minus = 2*math.atan(lumpD4minus)\n",
    "        \n",
    "# draw servo positions & pen point\n",
    "# (quick & dirty!)\n",
    "def draw(angleLeft, angleRight, x, y):\n",
    "    length = 10\n",
    "\n",
    "    leftHome = [-10, 0]\n",
    "    rightHome = [10, 0]\n",
    "\n",
    "    # sums\n",
    "    leftEndx = length * math.cos(math.radians(angleLeft)) + leftHome[0]\n",
    "    leftEndy = length * math.sin(math.radians(angleLeft))\n",
    "    # transpose for drawing\n",
    "    leftEnd = [leftEndx , leftEndy]\n",
    "    xLeft = [leftHome[0], leftEnd[0]]\n",
    "    yLeft = [leftHome[1], leftEnd[1]]\n",
    "\n",
    "    rightEndx = length * math.cos(math.radians(angleRight)) + rightHome[0]\n",
    "    rightEndy = length * math.sin(math.radians(angleRight))\n",
    "    rightEnd = [rightEndx , rightEndy]\n",
    "    xRight = [rightHome[0], rightEnd[0]]\n",
    "    yRight = [rightHome[1], rightEnd[1]]\n",
    "\n",
    "    plt.xlim(-25, 25), plt.ylim(-5, 25)\n",
    "    plt.grid()\n",
    "    plt.scatter(x,y, c='r') \n",
    "    plt.plot(xLeft, yLeft, marker = 'o')\n",
    "    plt.plot(xRight, yRight, marker = 'o')\n",
    "    \n"
   ]
  },
  {
   "cell_type": "code",
   "execution_count": 50,
   "metadata": {},
   "outputs": [
    {
     "data": {
      "image/png": "[encoded data removed]",
      "text/plain": [
       "<Figure size 432x288 with 1 Axes>"
      ]
     },
     "metadata": {
      "needs_background": "light"
     },
     "output_type": "display_data"
    }
   ],
   "source": [
    "\n",
    "draw(120, 60, 0, 15)"
   ]
  }
 ],
 "metadata": {
  "kernelspec": {
   "display_name": "Python 3",
   "language": "python",
   "name": "python3"
  },
  "language_info": {
   "codemirror_mode": {
    "name": "ipython",
    "version": 3
   },
   "file_extension": ".py",
   "mimetype": "text/x-python",
   "name": "python",
   "nbconvert_exporter": "python",
   "pygments_lexer": "ipython3",
   "version": "3.9.7"
  }
 },
 "nbformat": 4,
 "nbformat_minor": 4
}
