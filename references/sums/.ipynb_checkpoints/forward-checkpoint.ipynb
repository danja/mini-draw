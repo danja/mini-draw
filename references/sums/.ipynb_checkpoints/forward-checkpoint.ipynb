{
 "cells": [
  {
   "cell_type": "code",
   "execution_count": 37,
   "metadata": {},
   "outputs": [
    {
     "data": {
      "text/plain": [
       "<matplotlib.collections.PathCollection at 0x7f9a85283d30>"
      ]
     },
     "execution_count": 37,
     "metadata": {},
     "output_type": "execute_result"
    },
    {
     "data": {
      "image/png": "[encoded data removed]",
      "text/plain": [
       "<Figure size 432x288 with 1 Axes>"
      ]
     },
     "metadata": {
      "needs_background": "light"
     },
     "output_type": "display_data"
    }
   ],
   "source": [
    "# 5-Bar Linkage : Forward Kinematics\n",
    "#\n",
    "# from Study and Development of Parallel Robots Based On 5-Bar Linkage\n",
    "# Manh Tuong Hoang, Trung Tin Vuong, Cong Bang Pham 2015\n",
    "# https://www.researchgate.net/publication/283356024_Study_and_Development_of_Parallel_Robots_Based_On_5-Bar_Linkage\n",
    "\n",
    "import math\n",
    "import numpy as np\n",
    "import matplotlib.pyplot as plt\n",
    "\n",
    "base = 10 # distance between servos\n",
    "humerus = 10 # from each servo to elbow\n",
    "radius = 10 # elbow to pen\n",
    "\n",
    "baselineX = np.linspace(0, base, 100)\n",
    "baselineY = np.zeros(100)\n",
    "\n",
    "anglesL = np.linspace(0, 2*np.pi, 200)\n",
    "anglesR = np.linspace(0, 2*np.pi, 200)\n",
    "\n",
    "xPlus = []\n",
    "xMinus = []\n",
    "yPlus = []\n",
    "yMinus = []\n",
    "\n",
    "for angleL in anglesL:\n",
    "    for angleR in anglesR:\n",
    "        E = 2*radius*(base+humerus*(math.sin(angleR)-math.cos(angleL)))\n",
    "        # print(E)\n",
    "        F = 2*humerus*radius*(math.sin(angleR)-math.sin(angleL))\n",
    "        G = base*base+2*humerus*humerus+2*base*humerus*math.cos(angleR)-2*humerus*humerus*math.cos(angleR-angleL)\n",
    "\n",
    "        if G-E != 0 and E*E+F*F-G*G > 0: # avoid div by zero\n",
    "\n",
    "            lumpXplus =  (-F+math.sqrt(E*E+F*F-G*G)) / (G-E)\n",
    "            lumpXminus = (-F-math.sqrt(E*E+F*F-G*G)) / (G-E)\n",
    "            lumpYplus =  (-F+math.sqrt(E*E+F*F-G*G)) / (G-E)\n",
    "            lumpYminus = (-F-math.sqrt(E*E+F*F-G*G)) / (G-E)\n",
    "            \n",
    "            xPlus. append(base+humerus*math.cos(angleR)+radius*math.cos(2*math.atan(lumpXplus)))\n",
    "            xMinus.append(base+humerus*math.cos(angleR)+radius*math.cos(2*math.atan(lumpXminus)))\n",
    "            \n",
    "            yPlus. append(humerus*math.sin(angleR)+radius*math.sin(2*math.atan(lumpYplus)))\n",
    "            yMinus.append(humerus*math.sin(angleR)+radius*math.sin(2*math.atan(lumpYminus)))\n",
    "                \n",
    "plt.scatter(xMinus, yMinus)\n",
    "plt.scatter(xMinus, yPlus)\n",
    "plt.scatter(xPlus, yMinus)\n",
    "plt.scatter(xPlus, yPlus)\n",
    "\n",
    "plt.scatter(baselineX, baselineY)\n"
   ]
  },
  {
   "cell_type": "code",
   "execution_count": null,
   "metadata": {},
   "outputs": [],
   "source": []
  },
  {
   "cell_type": "code",
   "execution_count": null,
   "metadata": {},
   "outputs": [],
   "source": []
  },
  {
   "cell_type": "code",
   "execution_count": null,
   "metadata": {},
   "outputs": [],
   "source": []
  }
 ],
 "metadata": {
  "kernelspec": {
   "display_name": "Python 3",
   "language": "python",
   "name": "python3"
  },
  "language_info": {
   "codemirror_mode": {
    "name": "ipython",
    "version": 3
   },
   "file_extension": ".py",
   "mimetype": "text/x-python",
   "name": "python",
   "nbconvert_exporter": "python",
   "pygments_lexer": "ipython3",
   "version": "3.8.5"
  }
 },
 "nbformat": 4,
 "nbformat_minor": 4
}
